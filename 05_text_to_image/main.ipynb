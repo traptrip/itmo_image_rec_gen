{
 "cells": [
  {
   "cell_type": "code",
   "execution_count": 1,
   "metadata": {},
   "outputs": [
    {
     "name": "stdout",
     "output_type": "stream",
     "text": [
      "Collecting rudalle==1.1.3\n",
      "  Using cached rudalle-1.1.3-py3-none-any.whl (40 kB)\n",
      "Collecting transformers~=4.10.2\n",
      "  Using cached transformers-4.10.3-py3-none-any.whl (2.8 MB)\n",
      "Collecting segmentation-models-pytorch==0.1.3\n",
      "  Using cached segmentation_models_pytorch-0.1.3-py3-none-any.whl (66 kB)\n",
      "Collecting PyWavelets==1.1.1\n",
      "  Using cached PyWavelets-1.1.1.tar.gz (4.6 MB)\n",
      "  Preparing metadata (setup.py) ... \u001b[?25ldone\n",
      "\u001b[?25hRequirement already satisfied: omegaconf>=2.0.0 in /home/and/miniforge3/envs/itmo/lib/python3.10/site-packages (from rudalle==1.1.3) (2.2.3)\n",
      "Collecting taming-transformers==0.0.1\n",
      "  Using cached taming_transformers-0.0.1-py3-none-any.whl (45 kB)\n",
      "Requirement already satisfied: torch in /home/and/miniforge3/envs/itmo/lib/python3.10/site-packages (from rudalle==1.1.3) (1.13.0)\n",
      "Requirement already satisfied: matplotlib in /home/and/miniforge3/envs/itmo/lib/python3.10/site-packages (from rudalle==1.1.3) (3.6.2)\n",
      "Requirement already satisfied: torchvision in /home/and/miniforge3/envs/itmo/lib/python3.10/site-packages (from rudalle==1.1.3) (0.14.0)\n",
      "Collecting more-itertools~=8.12.0\n",
      "  Using cached more_itertools-8.12.0-py3-none-any.whl (54 kB)\n",
      "Collecting einops~=0.3.2\n",
      "  Using cached einops-0.3.2-py3-none-any.whl (25 kB)\n",
      "Collecting opencv-python==4.5.4.60\n",
      "  Using cached opencv_python-4.5.4.60-cp310-cp310-manylinux_2_17_x86_64.manylinux2014_x86_64.whl (60.3 MB)\n",
      "Collecting youtokentome~=1.0.6\n",
      "  Using cached youtokentome-1.0.6.tar.gz (86 kB)\n",
      "  Preparing metadata (setup.py) ... \u001b[?25lerror\n",
      "  \u001b[1;31merror\u001b[0m: \u001b[1msubprocess-exited-with-error\u001b[0m\n",
      "  \n",
      "  \u001b[31m×\u001b[0m \u001b[32mpython setup.py egg_info\u001b[0m did not run successfully.\n",
      "  \u001b[31m│\u001b[0m exit code: \u001b[1;36m1\u001b[0m\n",
      "  \u001b[31m╰─>\u001b[0m \u001b[31m[6 lines of output]\u001b[0m\n",
      "  \u001b[31m   \u001b[0m Traceback (most recent call last):\n",
      "  \u001b[31m   \u001b[0m   File \"<string>\", line 2, in <module>\n",
      "  \u001b[31m   \u001b[0m   File \"<pip-setuptools-caller>\", line 34, in <module>\n",
      "  \u001b[31m   \u001b[0m   File \"/tmp/pip-install-d2p6_u7e/youtokentome_aaf119ee8b4e4c019932adc19e554463/setup.py\", line 5, in <module>\n",
      "  \u001b[31m   \u001b[0m     from Cython.Build import cythonize\n",
      "  \u001b[31m   \u001b[0m ModuleNotFoundError: No module named 'Cython'\n",
      "  \u001b[31m   \u001b[0m \u001b[31m[end of output]\u001b[0m\n",
      "  \n",
      "  \u001b[1;35mnote\u001b[0m: This error originates from a subprocess, and is likely not a problem with pip.\n",
      "\u001b[?25h\u001b[1;31merror\u001b[0m: \u001b[1mmetadata-generation-failed\u001b[0m\n",
      "\n",
      "\u001b[31m×\u001b[0m Encountered error while generating package metadata.\n",
      "\u001b[31m╰─>\u001b[0m See above for output.\n",
      "\n",
      "\u001b[1;35mnote\u001b[0m: This is an issue with the package mentioned above, not pip.\n",
      "\u001b[1;36mhint\u001b[0m: See above for details.\n"
     ]
    }
   ],
   "source": [
    "! pip install rudalle==1.1.3"
   ]
  },
  {
   "cell_type": "code",
   "execution_count": 3,
   "metadata": {},
   "outputs": [
    {
     "ename": "ModuleNotFoundError",
     "evalue": "No module named 'rudalle'",
     "output_type": "error",
     "traceback": [
      "\u001b[0;31m---------------------------------------------------------------------------\u001b[0m",
      "\u001b[0;31mModuleNotFoundError\u001b[0m                       Traceback (most recent call last)",
      "\u001b[0;32m<ipython-input-3-84ef8630e715>\u001b[0m in \u001b[0;36m<module>\u001b[0;34m\u001b[0m\n\u001b[1;32m      1\u001b[0m \u001b[0;31m# import ruclip\u001b[0m\u001b[0;34m\u001b[0m\u001b[0;34m\u001b[0m\u001b[0;34m\u001b[0m\u001b[0m\n\u001b[0;32m----> 2\u001b[0;31m \u001b[0;32mfrom\u001b[0m \u001b[0mrudalle\u001b[0m\u001b[0;34m.\u001b[0m\u001b[0mpipelines\u001b[0m \u001b[0;32mimport\u001b[0m \u001b[0mgenerate_images\u001b[0m\u001b[0;34m,\u001b[0m \u001b[0mshow\u001b[0m\u001b[0;34m,\u001b[0m \u001b[0msuper_resolution\u001b[0m\u001b[0;34m,\u001b[0m \u001b[0mcherry_pick_by_ruclip\u001b[0m\u001b[0;34m\u001b[0m\u001b[0;34m\u001b[0m\u001b[0m\n\u001b[0m\u001b[1;32m      3\u001b[0m \u001b[0;32mfrom\u001b[0m \u001b[0mrudalle\u001b[0m \u001b[0;32mimport\u001b[0m \u001b[0mget_rudalle_model\u001b[0m\u001b[0;34m,\u001b[0m \u001b[0mget_tokenizer\u001b[0m\u001b[0;34m,\u001b[0m \u001b[0mget_vae\u001b[0m\u001b[0;34m,\u001b[0m \u001b[0mget_realesrgan\u001b[0m\u001b[0;34m\u001b[0m\u001b[0;34m\u001b[0m\u001b[0m\n\u001b[1;32m      4\u001b[0m \u001b[0;32mfrom\u001b[0m \u001b[0mrudalle\u001b[0m\u001b[0;34m.\u001b[0m\u001b[0mutils\u001b[0m \u001b[0;32mimport\u001b[0m \u001b[0mseed_everything\u001b[0m\u001b[0;34m\u001b[0m\u001b[0;34m\u001b[0m\u001b[0m\n\u001b[1;32m      5\u001b[0m \u001b[0;34m\u001b[0m\u001b[0m\n",
      "\u001b[0;31mModuleNotFoundError\u001b[0m: No module named 'rudalle'"
     ]
    }
   ],
   "source": [
    "import ruclip\n",
    "from rudalle.pipelines import generate_images, show, super_resolution, cherry_pick_by_ruclip\n",
    "from rudalle import get_rudalle_model, get_tokenizer, get_vae, get_realesrgan\n",
    "from rudalle.utils import seed_everything\n",
    "\n",
    "SEED = 42\n",
    "\n",
    "seed_everything(SEED)"
   ]
  },
  {
   "cell_type": "code",
   "execution_count": null,
   "metadata": {},
   "outputs": [],
   "source": [
    "\n",
    "# prepare models:\n",
    "device = 'cuda'\n",
    "dalle = get_rudalle_model('Malevich', pretrained=True, fp16=True, device=device)\n",
    "tokenizer = get_tokenizer()\n",
    "vae = get_vae(dwt=True).to(device)\n",
    "\n",
    "# pipeline utils:\n",
    "realesrgan = get_realesrgan('x2', device=device)\n",
    "clip, processor = ruclip.load('ruclip-vit-base-patch32-384', device=device)\n",
    "clip_predictor = ruclip.Predictor(clip, processor, device, bs=8)\n",
    "text = 'радуга на фоне ночного города'\n",
    "\n",
    "pil_images = []\n",
    "scores = []\n",
    "for top_k, top_p, images_num in [\n",
    "    (2048, 0.995, 24),\n",
    "]:\n",
    "    _pil_images, _scores = generate_images(text, tokenizer, dalle, vae, top_k=top_k, images_num=images_num, bs=8, top_p=top_p)\n",
    "    pil_images += _pil_images\n",
    "    scores += _scores\n",
    "\n",
    "show(pil_images, 6)"
   ]
  }
 ],
 "metadata": {
  "kernelspec": {
   "display_name": "itmo",
   "language": "python",
   "name": "python3"
  },
  "language_info": {
   "codemirror_mode": {
    "name": "ipython",
    "version": 3
   },
   "file_extension": ".py",
   "mimetype": "text/x-python",
   "name": "python",
   "nbconvert_exporter": "python",
   "pygments_lexer": "ipython3",
   "version": "3.10.8 | packaged by conda-forge | (main, Nov 22 2022, 08:26:04) [GCC 10.4.0]"
  },
  "orig_nbformat": 4,
  "vscode": {
   "interpreter": {
    "hash": "2dd17e1de63a59aae77a14f9f7b4f28ed9913ad3ffa1edeb567115112b611ea6"
   }
  }
 },
 "nbformat": 4,
 "nbformat_minor": 2
}
